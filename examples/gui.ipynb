{
 "cells": [
  {
   "cell_type": "code",
   "execution_count": null,
   "id": "cea125ec",
   "metadata": {},
   "outputs": [],
   "source": [
    "from ninatool.gui.mainwindow import mainwindow\n",
    "from ninatool.circuits.base_circuits import snail\n",
    "from PyQt5 import QtWidgets\n",
    "import sys\n",
    "import numpy as np"
   ]
  },
  {
   "cell_type": "code",
   "execution_count": null,
   "id": "a58ee216",
   "metadata": {},
   "outputs": [],
   "source": [
    "snail0 = snail(name = 'snail', order = 4)\n",
    "\n",
    "snail0.free_phi = np.linspace(-1,1,1001) * 2 * np.pi"
   ]
  },
  {
   "cell_type": "code",
   "execution_count": null,
   "id": "7ceb2669",
   "metadata": {},
   "outputs": [],
   "source": [
    "app = QtWidgets.QApplication(sys.argv)\n",
    "\n",
    "window = mainwindow(snail0)\n",
    "window.show()\n",
    "\n",
    "app.exec()\n",
    "del app"
   ]
  }
 ],
 "metadata": {
  "kernelspec": {
   "display_name": "Python 3 (ipykernel)",
   "language": "python",
   "name": "python3"
  },
  "language_info": {
   "codemirror_mode": {
    "name": "ipython",
    "version": 3
   },
   "file_extension": ".py",
   "mimetype": "text/x-python",
   "name": "python",
   "nbconvert_exporter": "python",
   "pygments_lexer": "ipython3",
   "version": "3.10.9"
  },
  "vscode": {
   "interpreter": {
    "hash": "0c3a1e4ffcdd8dd7025b02dca6552158478eec13c80c87bb26405fb20ceaa5f3"
   }
  }
 },
 "nbformat": 4,
 "nbformat_minor": 5
}
