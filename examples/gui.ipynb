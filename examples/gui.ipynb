{
 "cells": [
  {
   "cell_type": "code",
   "execution_count": null,
   "id": "cea125ec",
   "metadata": {},
   "outputs": [],
   "source": [
    "from ninatool.gui.mainwindow import ninaGUI\n",
    "from ninatool.circuits.base_circuits import snail\n",
    "from ninatool.internal.structures import Nlosc\n",
    "import numpy as np"
   ]
  },
  {
   "cell_type": "code",
   "execution_count": null,
   "id": "a58ee216",
   "metadata": {},
   "outputs": [],
   "source": [
    "snail0 = snail(name = 'snail', order = 4)\n",
    "spa0 = Nlosc(snail0, name = 'spa')\n",
    "ninaGUI(spa0)"
   ]
  }
 ],
 "metadata": {
  "kernelspec": {
   "display_name": "Python 3 (ipykernel)",
   "language": "python",
   "name": "python3"
  },
  "language_info": {
   "codemirror_mode": {
    "name": "ipython",
    "version": 3
   },
   "file_extension": ".py",
   "mimetype": "text/x-python",
   "name": "python",
   "nbconvert_exporter": "python",
   "pygments_lexer": "ipython3",
   "version": "3.11.2"
  },
  "vscode": {
   "interpreter": {
    "hash": "0c3a1e4ffcdd8dd7025b02dca6552158478eec13c80c87bb26405fb20ceaa5f3"
   }
  }
 },
 "nbformat": 4,
 "nbformat_minor": 5
}
