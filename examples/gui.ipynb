{
 "cells": [
  {
   "cell_type": "code",
   "execution_count": 1,
   "id": "cea125ec",
   "metadata": {},
   "outputs": [],
   "source": [
    "from ninatool.gui.mainwindow import mainwindow\n",
    "from ninatool.circuits.base_circuits import snail\n",
    "from PyQt5 import QtWidgets\n",
    "import sys\n",
    "import numpy as np"
   ]
  },
  {
   "cell_type": "code",
   "execution_count": 2,
   "id": "a58ee216",
   "metadata": {},
   "outputs": [],
   "source": [
    "snail0 = snail(name = 'snail', order = 4)\n",
    "\n",
    "snail0.free_phi = np.linspace(-1,1,10001) * 2 * np.pi"
   ]
  },
  {
   "cell_type": "code",
   "execution_count": 3,
   "id": "7ceb2669",
   "metadata": {},
   "outputs": [
    {
     "name": "stderr",
     "output_type": "stream",
     "text": [
      "<string>:1: RuntimeWarning: divide by zero encountered in divide\n",
      "<string>:1: RuntimeWarning: divide by zero encountered in divide\n",
      "<string>:1: RuntimeWarning: divide by zero encountered in divide\n",
      "<string>:1: RuntimeWarning: divide by zero encountered in divide\n",
      "<string>:1: RuntimeWarning: divide by zero encountered in divide\n",
      "<string>:1: RuntimeWarning: divide by zero encountered in divide\n",
      "<string>:1: RuntimeWarning: divide by zero encountered in divide\n",
      "<string>:1: RuntimeWarning: divide by zero encountered in divide\n",
      "<string>:1: RuntimeWarning: divide by zero encountered in divide\n",
      "<string>:1: RuntimeWarning: divide by zero encountered in divide\n",
      "<string>:1: RuntimeWarning: divide by zero encountered in divide\n",
      "<string>:1: RuntimeWarning: divide by zero encountered in divide\n",
      "<string>:1: RuntimeWarning: divide by zero encountered in divide\n",
      "<string>:1: RuntimeWarning: divide by zero encountered in divide\n",
      "<string>:1: RuntimeWarning: divide by zero encountered in divide\n",
      "<string>:1: RuntimeWarning: divide by zero encountered in divide\n",
      "<string>:1: RuntimeWarning: divide by zero encountered in divide\n",
      "<string>:1: RuntimeWarning: divide by zero encountered in divide\n",
      "<string>:1: RuntimeWarning: divide by zero encountered in divide\n",
      "<string>:1: RuntimeWarning: divide by zero encountered in divide\n",
      "<string>:1: RuntimeWarning: divide by zero encountered in divide\n",
      "<string>:1: RuntimeWarning: divide by zero encountered in divide\n"
     ]
    }
   ],
   "source": [
    "app = QtWidgets.QApplication(sys.argv)\n",
    "\n",
    "window = mainwindow(snail0)\n",
    "window.show()\n",
    "\n",
    "app.exec()\n",
    "del app"
   ]
  },
  {
   "cell_type": "code",
   "execution_count": null,
   "id": "92578ecf",
   "metadata": {},
   "outputs": [],
   "source": []
  }
 ],
 "metadata": {
  "kernelspec": {
   "display_name": "nina",
   "language": "python",
   "name": "python3"
  },
  "language_info": {
   "codemirror_mode": {
    "name": "ipython",
    "version": 3
   },
   "file_extension": ".py",
   "mimetype": "text/x-python",
   "name": "python",
   "nbconvert_exporter": "python",
   "pygments_lexer": "ipython3",
   "version": "3.10.9"
  },
  "vscode": {
   "interpreter": {
    "hash": "0c3a1e4ffcdd8dd7025b02dca6552158478eec13c80c87bb26405fb20ceaa5f3"
   }
  }
 },
 "nbformat": 4,
 "nbformat_minor": 5
}
