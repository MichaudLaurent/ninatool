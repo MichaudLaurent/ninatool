{
 "cells": [
  {
   "cell_type": "code",
   "execution_count": 1,
   "id": "cea125ec",
   "metadata": {},
   "outputs": [],
   "source": [
    "from ninatool.gui.mainwindow import ninaGUI\n",
    "from ninatool.circuits.base_circuits import snail\n",
    "import numpy as np"
   ]
  },
  {
   "cell_type": "code",
   "execution_count": 8,
   "id": "a58ee216",
   "metadata": {},
   "outputs": [],
   "source": [
    "snail0 = snail(name = 'snail', order = 4)\n",
    "ninaGUI(snail0)"
   ]
  }
 ],
 "metadata": {
  "kernelspec": {
   "display_name": "Python 3 (ipykernel)",
   "language": "python",
   "name": "python3"
  },
  "language_info": {
   "codemirror_mode": {
    "name": "ipython",
    "version": 3
   },
   "file_extension": ".py",
   "mimetype": "text/x-python",
   "name": "python",
   "nbconvert_exporter": "python",
   "pygments_lexer": "ipython3",
   "version": "3.10.9"
  },
  "vscode": {
   "interpreter": {
    "hash": "0c3a1e4ffcdd8dd7025b02dca6552158478eec13c80c87bb26405fb20ceaa5f3"
   }
  }
 },
 "nbformat": 4,
 "nbformat_minor": 5
}
