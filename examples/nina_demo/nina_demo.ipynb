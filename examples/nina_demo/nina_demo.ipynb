{
 "cells": [
  {
   "cell_type": "markdown",
   "id": "9a36c811",
   "metadata": {},
   "source": [
    "<div>\n",
    "<img src=\"nlosc.png\" width=\"400\"/>\n",
    "</div>"
   ]
  },
  {
   "cell_type": "code",
   "execution_count": null,
   "id": "d4331f34",
   "metadata": {},
   "outputs": [],
   "source": [
    "# NINA IMPORTS\n",
    "from ninatool.internal.structures import loop, Nlosc\n",
    "from ninatool.internal.elements import L, J\n",
    "\n",
    "# EXTERNAL IMPORTS\n",
    "import matplotlib.pyplot as plt\n",
    "import numpy as np\n",
    "plt.style.use('paper_1col')"
   ]
  },
  {
   "cell_type": "code",
   "execution_count": null,
   "id": "04dea644",
   "metadata": {},
   "outputs": [],
   "source": [
    "#NONLINEAR ORDER OF EXPANSION; 1 is LINEAR\n",
    "order = 3\n",
    "#LEFT BRANCH ELEMENTS\n",
    "L0 = L(L = .1, order = order, name = 'L0')\n",
    "J0 = J(ic = .1, order = order, name = 'J0')\n",
    "left_elements = [L0, J0]\n",
    "\n",
    "#RIGHT BRANCH ELEMENTS\n",
    "L1 = L(L = .1, order = order, name = 'L1')\n",
    "J1 = J(ic = 1, order = order, name = 'J1')\n",
    "J2 = J(ic = 1, order = order, name = 'J2')\n",
    "J3 = J(ic = 1, order = order, name = 'J3')\n",
    "right_elements = [L1, J1, J2, J3]\n",
    "\n",
    "#DEFINES THE SNAIL AS A LOOP INSTANCE\n",
    "snail = loop(left_branch = left_elements, \n",
    "             right_branch = right_elements, \n",
    "             stray_inductance = True,\n",
    "             name = 'SNAIL')"
   ]
  },
  {
   "cell_type": "code",
   "execution_count": null,
   "id": "92cf79f9",
   "metadata": {},
   "outputs": [],
   "source": [
    "#DEFINES PLOT FUNCTION\n",
    "def plot_un(order):\n",
    "    #THE \"0\" INDEX CORRESPONDS TO SECOND ORDER EXPANSION OF POTENTIAL ENERGY\n",
    "    plt.plot(snail.flux/2/np.pi, snail.adm[order - 2])\n",
    "    plt.xlabel(r'$\\bar{\\varphi}_\\mathrm{e}/2\\pi$')\n",
    "    plt.ylabel(r'$u_' + str(order) + '$', rotation = 0, labelpad = 10)"
   ]
  },
  {
   "cell_type": "code",
   "execution_count": null,
   "id": "87367ee9",
   "metadata": {},
   "outputs": [],
   "source": [
    "plot_un(order = 2)"
   ]
  },
  {
   "cell_type": "code",
   "execution_count": null,
   "id": "2593c739",
   "metadata": {},
   "outputs": [],
   "source": [
    "J1.ic = .2\n",
    "L0.L0 = 2"
   ]
  },
  {
   "cell_type": "code",
   "execution_count": null,
   "id": "eac873d1",
   "metadata": {},
   "outputs": [],
   "source": [
    "plot_un(2)"
   ]
  },
  {
   "cell_type": "code",
   "execution_count": null,
   "id": "90ee4a42",
   "metadata": {},
   "outputs": [],
   "source": [
    "spa = Nlosc(snail, name = 'SPA')"
   ]
  },
  {
   "cell_type": "code",
   "execution_count": null,
   "id": "3f5965fb",
   "metadata": {},
   "outputs": [],
   "source": [
    "plt.plot(spa.nlind.flux/2/np.pi, spa.omega)\n",
    "plt.xlabel(r'$\\bar{\\varphi}_\\mathrm{e}/2\\pi$')\n",
    "plt.ylabel(r'$\\omega$', rotation = 0, labelpad = 10)"
   ]
  },
  {
   "cell_type": "code",
   "execution_count": null,
   "id": "58c40701",
   "metadata": {},
   "outputs": [],
   "source": [
    "# IMPORTS THE NINA GUI\n",
    "from ninatool.gui.mainwindow import ninaGUI"
   ]
  },
  {
   "cell_type": "code",
   "execution_count": null,
   "id": "d485b286",
   "metadata": {},
   "outputs": [],
   "source": [
    "#RUNS THE SPA SIMULATION IN THE NINA GUI\n",
    "ninaGUI(spa)"
   ]
  },
  {
   "cell_type": "code",
   "execution_count": null,
   "id": "89b2730a",
   "metadata": {},
   "outputs": [],
   "source": []
  }
 ],
 "metadata": {
  "kernelspec": {
   "display_name": "Python 3 (ipykernel)",
   "language": "python",
   "name": "python3"
  },
  "language_info": {
   "codemirror_mode": {
    "name": "ipython",
    "version": 3
   },
   "file_extension": ".py",
   "mimetype": "text/x-python",
   "name": "python",
   "nbconvert_exporter": "python",
   "pygments_lexer": "ipython3",
   "version": "3.11.2"
  }
 },
 "nbformat": 4,
 "nbformat_minor": 5
}
