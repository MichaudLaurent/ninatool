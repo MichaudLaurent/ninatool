{
 "cells": [
  {
   "cell_type": "code",
   "execution_count": 1,
   "id": "cea125ec",
   "metadata": {},
   "outputs": [],
   "source": [
    "from ninatool.gui.core import mainwindow\n",
    "from ninatool.circuits.base_circuits import snail\n",
    "from PyQt5 import QtWidgets\n",
    "import sys\n",
    "import numpy as np"
   ]
  },
  {
   "cell_type": "code",
   "execution_count": 2,
   "id": "a58ee216",
   "metadata": {},
   "outputs": [],
   "source": [
    "snail0 = snail(name = 'snail0', order = 4)\n",
    "snail0.free_phi = np.linspace(-1, 1, 201) * 2 * np.pi"
   ]
  },
  {
   "cell_type": "code",
   "execution_count": 3,
   "id": "7ceb2669",
   "metadata": {},
   "outputs": [],
   "source": [
    "app = QtWidgets.QApplication(sys.argv)\n",
    "\n",
    "window = mainwindow(snail0)\n",
    "window.show()\n",
    "\n",
    "app.exec()\n",
    "del app"
   ]
  }
 ],
 "metadata": {
  "kernelspec": {
   "display_name": "Python 3 (ipykernel)",
   "language": "python",
   "name": "python3"
  },
  "language_info": {
   "codemirror_mode": {
    "name": "ipython",
    "version": 3
   },
   "file_extension": ".py",
   "mimetype": "text/x-python",
   "name": "python",
   "nbconvert_exporter": "python",
   "pygments_lexer": "ipython3",
   "version": "3.10.9"
  }
 },
 "nbformat": 4,
 "nbformat_minor": 5
}
